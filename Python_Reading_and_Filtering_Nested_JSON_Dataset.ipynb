{
 "cells": [
  {
   "cell_type": "markdown",
   "metadata": {},
   "source": [
    "# Reading and Filtering Nested JSON File"
   ]
  },
  {
   "cell_type": "code",
   "execution_count": 57,
   "metadata": {},
   "outputs": [
    {
     "data": {
      "text/html": [
       "<div>\n",
       "<style scoped>\n",
       "    .dataframe tbody tr th:only-of-type {\n",
       "        vertical-align: middle;\n",
       "    }\n",
       "\n",
       "    .dataframe tbody tr th {\n",
       "        vertical-align: top;\n",
       "    }\n",
       "\n",
       "    .dataframe thead th {\n",
       "        text-align: right;\n",
       "    }\n",
       "</style>\n",
       "<table border=\"1\" class=\"dataframe\">\n",
       "  <thead>\n",
       "    <tr style=\"text-align: right;\">\n",
       "      <th></th>\n",
       "      <th>student_roll_no</th>\n",
       "      <th>details</th>\n",
       "    </tr>\n",
       "  </thead>\n",
       "  <tbody>\n",
       "    <tr>\n",
       "      <th>0</th>\n",
       "      <td>101</td>\n",
       "      <td>{'name': 'Andrew', 'age': 12, 'grade': 'A'}</td>\n",
       "    </tr>\n",
       "    <tr>\n",
       "      <th>1</th>\n",
       "      <td>102</td>\n",
       "      <td>{'name': 'John', 'age': 18, 'grade': 'B'}</td>\n",
       "    </tr>\n",
       "    <tr>\n",
       "      <th>2</th>\n",
       "      <td>103</td>\n",
       "      <td>{'name': 'Clinton', 'age': 11, 'grade': 'A'}</td>\n",
       "    </tr>\n",
       "    <tr>\n",
       "      <th>3</th>\n",
       "      <td>104</td>\n",
       "      <td>{'name': 'Drake', 'age': 12, 'grade': 'C'}</td>\n",
       "    </tr>\n",
       "    <tr>\n",
       "      <th>4</th>\n",
       "      <td>105</td>\n",
       "      <td>{'name': 'Eisha', 'age': 13, 'grade': 'B'}</td>\n",
       "    </tr>\n",
       "    <tr>\n",
       "      <th>5</th>\n",
       "      <td>106</td>\n",
       "      <td>{'name': 'Haris', 'age': 22, 'grade': 'C'}</td>\n",
       "    </tr>\n",
       "    <tr>\n",
       "      <th>6</th>\n",
       "      <td>107</td>\n",
       "      <td>{'name': 'Jenifer', 'age': 11, 'grade': 'A'}</td>\n",
       "    </tr>\n",
       "    <tr>\n",
       "      <th>7</th>\n",
       "      <td>108</td>\n",
       "      <td>{'name': 'Micheal', 'age': 19, 'grade': 'A'}</td>\n",
       "    </tr>\n",
       "    <tr>\n",
       "      <th>8</th>\n",
       "      <td>109</td>\n",
       "      <td>{'name': 'Isak', 'age': 10, 'grade': 'D'}</td>\n",
       "    </tr>\n",
       "    <tr>\n",
       "      <th>9</th>\n",
       "      <td>110</td>\n",
       "      <td>{'name': 'Jason', 'age': 9, 'grade': 'B'}</td>\n",
       "    </tr>\n",
       "  </tbody>\n",
       "</table>\n",
       "</div>"
      ],
      "text/plain": [
       "   student_roll_no                                       details\n",
       "0              101   {'name': 'Andrew', 'age': 12, 'grade': 'A'}\n",
       "1              102     {'name': 'John', 'age': 18, 'grade': 'B'}\n",
       "2              103  {'name': 'Clinton', 'age': 11, 'grade': 'A'}\n",
       "3              104    {'name': 'Drake', 'age': 12, 'grade': 'C'}\n",
       "4              105    {'name': 'Eisha', 'age': 13, 'grade': 'B'}\n",
       "5              106    {'name': 'Haris', 'age': 22, 'grade': 'C'}\n",
       "6              107  {'name': 'Jenifer', 'age': 11, 'grade': 'A'}\n",
       "7              108  {'name': 'Micheal', 'age': 19, 'grade': 'A'}\n",
       "8              109     {'name': 'Isak', 'age': 10, 'grade': 'D'}\n",
       "9              110     {'name': 'Jason', 'age': 9, 'grade': 'B'}"
      ]
     },
     "execution_count": 57,
     "metadata": {},
     "output_type": "execute_result"
    }
   ],
   "source": [
    "# Using the 'read_json' command from the Pandas library, nested JSON files cannot be loaded correctly\n",
    "import pandas as pd\n",
    "my_json_data = pd.read_json('nested.json')\n",
    "my_json_data"
   ]
  },
  {
   "cell_type": "code",
   "execution_count": 60,
   "metadata": {},
   "outputs": [
    {
     "data": {
      "text/plain": [
       "0     {'name': 'Andrew', 'age': 12, 'grade': 'A'}\n",
       "1       {'name': 'John', 'age': 18, 'grade': 'B'}\n",
       "2    {'name': 'Clinton', 'age': 11, 'grade': 'A'}\n",
       "3      {'name': 'Drake', 'age': 12, 'grade': 'C'}\n",
       "4      {'name': 'Eisha', 'age': 13, 'grade': 'B'}\n",
       "5      {'name': 'Haris', 'age': 22, 'grade': 'C'}\n",
       "6    {'name': 'Jenifer', 'age': 11, 'grade': 'A'}\n",
       "7    {'name': 'Micheal', 'age': 19, 'grade': 'A'}\n",
       "8       {'name': 'Isak', 'age': 10, 'grade': 'D'}\n",
       "9       {'name': 'Jason', 'age': 9, 'grade': 'B'}\n",
       "Name: details, dtype: object"
      ]
     },
     "execution_count": 60,
     "metadata": {},
     "output_type": "execute_result"
    }
   ],
   "source": [
    "# The entire column 'details' of the data frame represents the Pandas series\n",
    "my_json_data['details']"
   ]
  },
  {
   "cell_type": "code",
   "execution_count": 61,
   "metadata": {},
   "outputs": [
    {
     "data": {
      "text/plain": [
       "pandas.core.series.Series"
      ]
     },
     "execution_count": 61,
     "metadata": {},
     "output_type": "execute_result"
    }
   ],
   "source": [
    "type(my_json_data['details'])"
   ]
  },
  {
   "cell_type": "markdown",
   "metadata": {},
   "source": [
    "# STEP 1: We will load the nested JSON file first"
   ]
  },
  {
   "cell_type": "code",
   "execution_count": 62,
   "metadata": {},
   "outputs": [
    {
     "data": {
      "text/plain": [
       "[{'student_roll_no': 101,\n",
       "  'details': {'name': 'Andrew', 'age': 12, 'grade': 'A'}},\n",
       " {'student_roll_no': 102,\n",
       "  'details': {'name': 'John', 'age': 18, 'grade': 'B'}},\n",
       " {'student_roll_no': 103,\n",
       "  'details': {'name': 'Clinton', 'age': 11, 'grade': 'A'}},\n",
       " {'student_roll_no': 104,\n",
       "  'details': {'name': 'Drake', 'age': 12, 'grade': 'C'}},\n",
       " {'student_roll_no': 105,\n",
       "  'details': {'name': 'Eisha', 'age': 13, 'grade': 'B'}},\n",
       " {'student_roll_no': 106,\n",
       "  'details': {'name': 'Haris', 'age': 22, 'grade': 'C'}},\n",
       " {'student_roll_no': 107,\n",
       "  'details': {'name': 'Jenifer', 'age': 11, 'grade': 'A'}},\n",
       " {'student_roll_no': 108,\n",
       "  'details': {'name': 'Micheal', 'age': 19, 'grade': 'A'}},\n",
       " {'student_roll_no': 109,\n",
       "  'details': {'name': 'Isak', 'age': 10, 'grade': 'D'}},\n",
       " {'student_roll_no': 110,\n",
       "  'details': {'name': 'Jason', 'age': 9, 'grade': 'B'}}]"
      ]
     },
     "execution_count": 62,
     "metadata": {},
     "output_type": "execute_result"
    }
   ],
   "source": [
    "import json\n",
    "with open('nested.json') as f :\n",
    "    my_json_data = json.load(f)\n",
    "\n",
    "my_json_data\n",
    "\n",
    "# After reading the JSON file, the data is loaded into the LIST data structure, as shown below."
   ]
  },
  {
   "cell_type": "markdown",
   "metadata": {},
   "source": [
    "# STEP 2: In the next step, we will filter the data for condition 'age'  > 15"
   ]
  },
  {
   "cell_type": "code",
   "execution_count": 63,
   "metadata": {},
   "outputs": [
    {
     "data": {
      "text/plain": [
       "[{'age': 18, 'name': 'John'},\n",
       " {'age': 22, 'name': 'Haris'},\n",
       " {'age': 19, 'name': 'Micheal'}]"
      ]
     },
     "execution_count": 63,
     "metadata": {},
     "output_type": "execute_result"
    }
   ],
   "source": [
    "filtered_data = []\n",
    "for data in my_json_data:\n",
    "    filtered_variable = {}\n",
    "    if data['details']['age'] > 15:\n",
    "        filtered_variable['age'] = data['details']['age']\n",
    "        filtered_variable['name']= data['details']['name']\n",
    "        filtered_data.append(filtered_variable)\n",
    "filtered_data\n",
    "\n",
    "# After filtering the initially data frame for conditions 'age'> 15, the result data is shown below"
   ]
  },
  {
   "cell_type": "markdown",
   "metadata": {},
   "source": [
    "# STEP 3: In the next step we filter the data for the condition 'grade' == 'A'"
   ]
  },
  {
   "cell_type": "code",
   "execution_count": 64,
   "metadata": {},
   "outputs": [
    {
     "data": {
      "text/plain": [
       "[{'age': 12, 'name': 'Andrew', 'grade': 'A'},\n",
       " {'age': 11, 'name': 'Clinton', 'grade': 'A'},\n",
       " {'age': 11, 'name': 'Jenifer', 'grade': 'A'},\n",
       " {'age': 19, 'name': 'Micheal', 'grade': 'A'}]"
      ]
     },
     "execution_count": 64,
     "metadata": {},
     "output_type": "execute_result"
    }
   ],
   "source": [
    "filtered_data1 = []\n",
    "\n",
    "for data in my_json_data:\n",
    "    filtered_variable = {}\n",
    "    if data['details']['grade'] == 'A':\n",
    "        filtered_variable['age'] = data['details']['age']\n",
    "        filtered_variable['name']= data['details']['name']\n",
    "        filtered_variable['grade']= data['details']['grade']\n",
    "        filtered_data1.append(filtered_variable)\n",
    "        \n",
    "filtered_data1\n",
    "\n",
    "# After filtering the initially data frame for conditions 'grade' == 'A', the result data is shown below"
   ]
  },
  {
   "cell_type": "code",
   "execution_count": null,
   "metadata": {},
   "outputs": [],
   "source": []
  }
 ],
 "metadata": {
  "kernelspec": {
   "display_name": "Python 3",
   "language": "python",
   "name": "python3"
  },
  "language_info": {
   "codemirror_mode": {
    "name": "ipython",
    "version": 3
   },
   "file_extension": ".py",
   "mimetype": "text/x-python",
   "name": "python",
   "nbconvert_exporter": "python",
   "pygments_lexer": "ipython3",
   "version": "3.7.6"
  }
 },
 "nbformat": 4,
 "nbformat_minor": 4
}
