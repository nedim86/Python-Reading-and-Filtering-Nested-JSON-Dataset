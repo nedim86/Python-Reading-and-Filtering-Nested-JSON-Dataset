{
 "cells": [
  {
   "cell_type": "markdown",
   "metadata": {},
   "source": [
    "# Reading and Filtering Nested JSON File"
   ]
  },
  {
   "cell_type": "code",
   "execution_count": 47,
   "metadata": {},
   "outputs": [
    {
     "data": {
      "text/html": [
       "<div>\n",
       "<style scoped>\n",
       "    .dataframe tbody tr th:only-of-type {\n",
       "        vertical-align: middle;\n",
       "    }\n",
       "\n",
       "    .dataframe tbody tr th {\n",
       "        vertical-align: top;\n",
       "    }\n",
       "\n",
       "    .dataframe thead th {\n",
       "        text-align: right;\n",
       "    }\n",
       "</style>\n",
       "<table border=\"1\" class=\"dataframe\">\n",
       "  <thead>\n",
       "    <tr style=\"text-align: right;\">\n",
       "      <th></th>\n",
       "      <th>student_roll_no</th>\n",
       "      <th>details</th>\n",
       "    </tr>\n",
       "  </thead>\n",
       "  <tbody>\n",
       "    <tr>\n",
       "      <th>0</th>\n",
       "      <td>101</td>\n",
       "      <td>{'name': 'Andrew', 'age': 12, 'grade': 'A'}</td>\n",
       "    </tr>\n",
       "    <tr>\n",
       "      <th>1</th>\n",
       "      <td>102</td>\n",
       "      <td>{'name': 'John', 'age': 18, 'grade': 'B'}</td>\n",
       "    </tr>\n",
       "    <tr>\n",
       "      <th>2</th>\n",
       "      <td>103</td>\n",
       "      <td>{'name': 'Clinton', 'age': 11, 'grade': 'A'}</td>\n",
       "    </tr>\n",
       "    <tr>\n",
       "      <th>3</th>\n",
       "      <td>104</td>\n",
       "      <td>{'name': 'Drake', 'age': 12, 'grade': 'C'}</td>\n",
       "    </tr>\n",
       "    <tr>\n",
       "      <th>4</th>\n",
       "      <td>105</td>\n",
       "      <td>{'name': 'Eisha', 'age': 13, 'grade': 'B'}</td>\n",
       "    </tr>\n",
       "    <tr>\n",
       "      <th>5</th>\n",
       "      <td>106</td>\n",
       "      <td>{'name': 'Haris', 'age': 22, 'grade': 'C'}</td>\n",
       "    </tr>\n",
       "    <tr>\n",
       "      <th>6</th>\n",
       "      <td>107</td>\n",
       "      <td>{'name': 'Jenifer', 'age': 11, 'grade': 'A'}</td>\n",
       "    </tr>\n",
       "    <tr>\n",
       "      <th>7</th>\n",
       "      <td>108</td>\n",
       "      <td>{'name': 'Micheal', 'age': 19, 'grade': 'A'}</td>\n",
       "    </tr>\n",
       "    <tr>\n",
       "      <th>8</th>\n",
       "      <td>109</td>\n",
       "      <td>{'name': 'Isak', 'age': 10, 'grade': 'D'}</td>\n",
       "    </tr>\n",
       "    <tr>\n",
       "      <th>9</th>\n",
       "      <td>110</td>\n",
       "      <td>{'name': 'Jason', 'age': 9, 'grade': 'B'}</td>\n",
       "    </tr>\n",
       "  </tbody>\n",
       "</table>\n",
       "</div>"
      ],
      "text/plain": [
       "   student_roll_no                                       details\n",
       "0              101   {'name': 'Andrew', 'age': 12, 'grade': 'A'}\n",
       "1              102     {'name': 'John', 'age': 18, 'grade': 'B'}\n",
       "2              103  {'name': 'Clinton', 'age': 11, 'grade': 'A'}\n",
       "3              104    {'name': 'Drake', 'age': 12, 'grade': 'C'}\n",
       "4              105    {'name': 'Eisha', 'age': 13, 'grade': 'B'}\n",
       "5              106    {'name': 'Haris', 'age': 22, 'grade': 'C'}\n",
       "6              107  {'name': 'Jenifer', 'age': 11, 'grade': 'A'}\n",
       "7              108  {'name': 'Micheal', 'age': 19, 'grade': 'A'}\n",
       "8              109     {'name': 'Isak', 'age': 10, 'grade': 'D'}\n",
       "9              110     {'name': 'Jason', 'age': 9, 'grade': 'B'}"
      ]
     },
     "execution_count": 47,
     "metadata": {},
     "output_type": "execute_result"
    }
   ],
   "source": [
    "# Using the 'read_json' command from the Pandas library, nested JSON files cannot be loaded correctly\n",
    "import pandas as pd\n",
    "my_json_data = pd.read_json('nested.json')\n",
    "my_json_data"
   ]
  },
  {
   "cell_type": "code",
   "execution_count": 48,
   "metadata": {},
   "outputs": [
    {
     "data": {
      "text/plain": [
       "0     {'name': 'Andrew', 'age': 12, 'grade': 'A'}\n",
       "1       {'name': 'John', 'age': 18, 'grade': 'B'}\n",
       "2    {'name': 'Clinton', 'age': 11, 'grade': 'A'}\n",
       "3      {'name': 'Drake', 'age': 12, 'grade': 'C'}\n",
       "4      {'name': 'Eisha', 'age': 13, 'grade': 'B'}\n",
       "5      {'name': 'Haris', 'age': 22, 'grade': 'C'}\n",
       "6    {'name': 'Jenifer', 'age': 11, 'grade': 'A'}\n",
       "7    {'name': 'Micheal', 'age': 19, 'grade': 'A'}\n",
       "8       {'name': 'Isak', 'age': 10, 'grade': 'D'}\n",
       "9       {'name': 'Jason', 'age': 9, 'grade': 'B'}\n",
       "Name: details, dtype: object"
      ]
     },
     "execution_count": 48,
     "metadata": {},
     "output_type": "execute_result"
    }
   ],
   "source": [
    "# The entire column of the data frame represents the Pandas series\n",
    "my_json_data['details']"
   ]
  },
  {
   "cell_type": "code",
   "execution_count": 49,
   "metadata": {},
   "outputs": [
    {
     "data": {
      "text/plain": [
       "pandas.core.series.Series"
      ]
     },
     "execution_count": 49,
     "metadata": {},
     "output_type": "execute_result"
    }
   ],
   "source": [
    "type(my_json_data['details'])"
   ]
  },
  {
   "cell_type": "code",
   "execution_count": 50,
   "metadata": {},
   "outputs": [
    {
     "ename": "KeyError",
     "evalue": "'name'",
     "output_type": "error",
     "traceback": [
      "\u001b[1;31m---------------------------------------------------------------------------\u001b[0m",
      "\u001b[1;31mKeyError\u001b[0m                                  Traceback (most recent call last)",
      "\u001b[1;32m<ipython-input-50-e9786674838a>\u001b[0m in \u001b[0;36m<module>\u001b[1;34m\u001b[0m\n\u001b[1;32m----> 1\u001b[1;33m \u001b[0mmy_json_data\u001b[0m\u001b[1;33m[\u001b[0m\u001b[1;34m'details'\u001b[0m\u001b[1;33m]\u001b[0m\u001b[1;33m[\u001b[0m\u001b[1;34m'name'\u001b[0m\u001b[1;33m]\u001b[0m\u001b[1;33m\u001b[0m\u001b[1;33m\u001b[0m\u001b[0m\n\u001b[0m",
      "\u001b[1;32m~\\Anaconda3\\lib\\site-packages\\pandas\\core\\series.py\u001b[0m in \u001b[0;36m__getitem__\u001b[1;34m(self, key)\u001b[0m\n\u001b[0;32m    869\u001b[0m         \u001b[0mkey\u001b[0m \u001b[1;33m=\u001b[0m \u001b[0mcom\u001b[0m\u001b[1;33m.\u001b[0m\u001b[0mapply_if_callable\u001b[0m\u001b[1;33m(\u001b[0m\u001b[0mkey\u001b[0m\u001b[1;33m,\u001b[0m \u001b[0mself\u001b[0m\u001b[1;33m)\u001b[0m\u001b[1;33m\u001b[0m\u001b[1;33m\u001b[0m\u001b[0m\n\u001b[0;32m    870\u001b[0m         \u001b[1;32mtry\u001b[0m\u001b[1;33m:\u001b[0m\u001b[1;33m\u001b[0m\u001b[1;33m\u001b[0m\u001b[0m\n\u001b[1;32m--> 871\u001b[1;33m             \u001b[0mresult\u001b[0m \u001b[1;33m=\u001b[0m \u001b[0mself\u001b[0m\u001b[1;33m.\u001b[0m\u001b[0mindex\u001b[0m\u001b[1;33m.\u001b[0m\u001b[0mget_value\u001b[0m\u001b[1;33m(\u001b[0m\u001b[0mself\u001b[0m\u001b[1;33m,\u001b[0m \u001b[0mkey\u001b[0m\u001b[1;33m)\u001b[0m\u001b[1;33m\u001b[0m\u001b[1;33m\u001b[0m\u001b[0m\n\u001b[0m\u001b[0;32m    872\u001b[0m \u001b[1;33m\u001b[0m\u001b[0m\n\u001b[0;32m    873\u001b[0m             \u001b[1;32mif\u001b[0m \u001b[1;32mnot\u001b[0m \u001b[0mis_scalar\u001b[0m\u001b[1;33m(\u001b[0m\u001b[0mresult\u001b[0m\u001b[1;33m)\u001b[0m\u001b[1;33m:\u001b[0m\u001b[1;33m\u001b[0m\u001b[1;33m\u001b[0m\u001b[0m\n",
      "\u001b[1;32m~\\Anaconda3\\lib\\site-packages\\pandas\\core\\indexes\\base.py\u001b[0m in \u001b[0;36mget_value\u001b[1;34m(self, series, key)\u001b[0m\n\u001b[0;32m   4403\u001b[0m         \u001b[0mk\u001b[0m \u001b[1;33m=\u001b[0m \u001b[0mself\u001b[0m\u001b[1;33m.\u001b[0m\u001b[0m_convert_scalar_indexer\u001b[0m\u001b[1;33m(\u001b[0m\u001b[0mk\u001b[0m\u001b[1;33m,\u001b[0m \u001b[0mkind\u001b[0m\u001b[1;33m=\u001b[0m\u001b[1;34m\"getitem\"\u001b[0m\u001b[1;33m)\u001b[0m\u001b[1;33m\u001b[0m\u001b[1;33m\u001b[0m\u001b[0m\n\u001b[0;32m   4404\u001b[0m         \u001b[1;32mtry\u001b[0m\u001b[1;33m:\u001b[0m\u001b[1;33m\u001b[0m\u001b[1;33m\u001b[0m\u001b[0m\n\u001b[1;32m-> 4405\u001b[1;33m             \u001b[1;32mreturn\u001b[0m \u001b[0mself\u001b[0m\u001b[1;33m.\u001b[0m\u001b[0m_engine\u001b[0m\u001b[1;33m.\u001b[0m\u001b[0mget_value\u001b[0m\u001b[1;33m(\u001b[0m\u001b[0ms\u001b[0m\u001b[1;33m,\u001b[0m \u001b[0mk\u001b[0m\u001b[1;33m,\u001b[0m \u001b[0mtz\u001b[0m\u001b[1;33m=\u001b[0m\u001b[0mgetattr\u001b[0m\u001b[1;33m(\u001b[0m\u001b[0mseries\u001b[0m\u001b[1;33m.\u001b[0m\u001b[0mdtype\u001b[0m\u001b[1;33m,\u001b[0m \u001b[1;34m\"tz\"\u001b[0m\u001b[1;33m,\u001b[0m \u001b[1;32mNone\u001b[0m\u001b[1;33m)\u001b[0m\u001b[1;33m)\u001b[0m\u001b[1;33m\u001b[0m\u001b[1;33m\u001b[0m\u001b[0m\n\u001b[0m\u001b[0;32m   4406\u001b[0m         \u001b[1;32mexcept\u001b[0m \u001b[0mKeyError\u001b[0m \u001b[1;32mas\u001b[0m \u001b[0me1\u001b[0m\u001b[1;33m:\u001b[0m\u001b[1;33m\u001b[0m\u001b[1;33m\u001b[0m\u001b[0m\n\u001b[0;32m   4407\u001b[0m             \u001b[1;32mif\u001b[0m \u001b[0mlen\u001b[0m\u001b[1;33m(\u001b[0m\u001b[0mself\u001b[0m\u001b[1;33m)\u001b[0m \u001b[1;33m>\u001b[0m \u001b[1;36m0\u001b[0m \u001b[1;32mand\u001b[0m \u001b[1;33m(\u001b[0m\u001b[0mself\u001b[0m\u001b[1;33m.\u001b[0m\u001b[0mholds_integer\u001b[0m\u001b[1;33m(\u001b[0m\u001b[1;33m)\u001b[0m \u001b[1;32mor\u001b[0m \u001b[0mself\u001b[0m\u001b[1;33m.\u001b[0m\u001b[0mis_boolean\u001b[0m\u001b[1;33m(\u001b[0m\u001b[1;33m)\u001b[0m\u001b[1;33m)\u001b[0m\u001b[1;33m:\u001b[0m\u001b[1;33m\u001b[0m\u001b[1;33m\u001b[0m\u001b[0m\n",
      "\u001b[1;32mpandas\\_libs\\index.pyx\u001b[0m in \u001b[0;36mpandas._libs.index.IndexEngine.get_value\u001b[1;34m()\u001b[0m\n",
      "\u001b[1;32mpandas\\_libs\\index.pyx\u001b[0m in \u001b[0;36mpandas._libs.index.IndexEngine.get_value\u001b[1;34m()\u001b[0m\n",
      "\u001b[1;32mpandas\\_libs\\index.pyx\u001b[0m in \u001b[0;36mpandas._libs.index.IndexEngine.get_loc\u001b[1;34m()\u001b[0m\n",
      "\u001b[1;32mpandas\\_libs\\index_class_helper.pxi\u001b[0m in \u001b[0;36mpandas._libs.index.Int64Engine._check_type\u001b[1;34m()\u001b[0m\n",
      "\u001b[1;31mKeyError\u001b[0m: 'name'"
     ]
    }
   ],
   "source": [
    "# This way of reading files is not OK\n",
    "my_json_data['details']['name']"
   ]
  },
  {
   "cell_type": "markdown",
   "metadata": {},
   "source": [
    "# STEP 1: We will load the nested JSON file first"
   ]
  },
  {
   "cell_type": "code",
   "execution_count": 51,
   "metadata": {},
   "outputs": [
    {
     "data": {
      "text/plain": [
       "[{'student_roll_no': 101,\n",
       "  'details': {'name': 'Andrew', 'age': 12, 'grade': 'A'}},\n",
       " {'student_roll_no': 102,\n",
       "  'details': {'name': 'John', 'age': 18, 'grade': 'B'}},\n",
       " {'student_roll_no': 103,\n",
       "  'details': {'name': 'Clinton', 'age': 11, 'grade': 'A'}},\n",
       " {'student_roll_no': 104,\n",
       "  'details': {'name': 'Drake', 'age': 12, 'grade': 'C'}},\n",
       " {'student_roll_no': 105,\n",
       "  'details': {'name': 'Eisha', 'age': 13, 'grade': 'B'}},\n",
       " {'student_roll_no': 106,\n",
       "  'details': {'name': 'Haris', 'age': 22, 'grade': 'C'}},\n",
       " {'student_roll_no': 107,\n",
       "  'details': {'name': 'Jenifer', 'age': 11, 'grade': 'A'}},\n",
       " {'student_roll_no': 108,\n",
       "  'details': {'name': 'Micheal', 'age': 19, 'grade': 'A'}},\n",
       " {'student_roll_no': 109,\n",
       "  'details': {'name': 'Isak', 'age': 10, 'grade': 'D'}},\n",
       " {'student_roll_no': 110,\n",
       "  'details': {'name': 'Jason', 'age': 9, 'grade': 'B'}}]"
      ]
     },
     "execution_count": 51,
     "metadata": {},
     "output_type": "execute_result"
    }
   ],
   "source": [
    "import json\n",
    "with open('nested.json') as f :\n",
    "    my_json_data = json.load(f)\n",
    "\n",
    "my_json_data\n",
    "\n",
    "# After reading the JSON file, the data is loaded into the LIST data structure, as shown below."
   ]
  },
  {
   "cell_type": "markdown",
   "metadata": {},
   "source": [
    "# STEP 2: In the next step, we will filter the data for condition 'age'  > 15"
   ]
  },
  {
   "cell_type": "code",
   "execution_count": 54,
   "metadata": {},
   "outputs": [
    {
     "data": {
      "text/plain": [
       "[{'age': 18, 'name': 'John'},\n",
       " {'age': 22, 'name': 'Haris'},\n",
       " {'age': 19, 'name': 'Micheal'}]"
      ]
     },
     "execution_count": 54,
     "metadata": {},
     "output_type": "execute_result"
    }
   ],
   "source": [
    "filtered_data = []\n",
    "for data in my_json_data:\n",
    "    filtered_variable = {}\n",
    "    if data['details']['age'] > 15:\n",
    "        filtered_variable['age'] = data['details']['age']\n",
    "        filtered_variable['name']= data['details']['name']\n",
    "        filtered_data.append(filtered_variable)\n",
    "filtered_data\n",
    "\n",
    "# After filtering the initially data frame for conditions 'age'> 15, the result data is shown below"
   ]
  },
  {
   "cell_type": "markdown",
   "metadata": {},
   "source": [
    "# STEP 3: In the next step we filter the data for the condition 'grade' == 'A'"
   ]
  },
  {
   "cell_type": "code",
   "execution_count": 55,
   "metadata": {},
   "outputs": [
    {
     "data": {
      "text/plain": [
       "[{'age': 12, 'name': 'Andrew', 'grade': 'A'},\n",
       " {'age': 11, 'name': 'Clinton', 'grade': 'A'},\n",
       " {'age': 11, 'name': 'Jenifer', 'grade': 'A'},\n",
       " {'age': 19, 'name': 'Micheal', 'grade': 'A'}]"
      ]
     },
     "execution_count": 55,
     "metadata": {},
     "output_type": "execute_result"
    }
   ],
   "source": [
    "filtered_data1 = []\n",
    "\n",
    "for data in my_json_data:\n",
    "    filtered_variable = {}\n",
    "    if data['details']['grade'] == 'A':\n",
    "        filtered_variable['age'] = data['details']['age']\n",
    "        filtered_variable['name']= data['details']['name']\n",
    "        filtered_variable['grade']= data['details']['grade']\n",
    "        filtered_data1.append(filtered_variable)\n",
    "        \n",
    "filtered_data1\n",
    "\n",
    "# After filtering the initially data frame for conditions 'grade' == 'A', the result data is shown below"
   ]
  },
  {
   "cell_type": "code",
   "execution_count": null,
   "metadata": {},
   "outputs": [],
   "source": []
  }
 ],
 "metadata": {
  "kernelspec": {
   "display_name": "Python 3",
   "language": "python",
   "name": "python3"
  },
  "language_info": {
   "codemirror_mode": {
    "name": "ipython",
    "version": 3
   },
   "file_extension": ".py",
   "mimetype": "text/x-python",
   "name": "python",
   "nbconvert_exporter": "python",
   "pygments_lexer": "ipython3",
   "version": "3.7.6"
  }
 },
 "nbformat": 4,
 "nbformat_minor": 4
}
